{
 "cells": [
  {
   "cell_type": "code",
   "execution_count": 1,
   "id": "03a1e5df-59b3-49bf-b945-8b8732b0beef",
   "metadata": {},
   "outputs": [],
   "source": [
    "import numpy as np"
   ]
  },
  {
   "cell_type": "code",
   "execution_count": 2,
   "id": "e016ba5a-49ed-4549-b6b7-8df6e1f45dc9",
   "metadata": {},
   "outputs": [
    {
     "data": {
      "text/plain": [
       "array([[0, 0, 0, 0, 0, 0, 0, 0],\n",
       "       [0, 0, 0, 0, 0, 0, 0, 0]])"
      ]
     },
     "execution_count": 2,
     "metadata": {},
     "output_type": "execute_result"
    }
   ],
   "source": [
    "np1 = np.zeros((2, 8), int)\n"
   ]
  },
  {
   "cell_type": "code",
   "execution_count": null,
   "id": "a102b61a-16c5-47db-910a-457a895b9411",
   "metadata": {},
   "outputs": [],
   "source": [
    "np1."
   ]
  },
  {
   "cell_type": "code",
   "execution_count": 5,
   "id": "cd77d4ed-8603-485a-8660-0ea32ba22f0b",
   "metadata": {},
   "outputs": [
    {
     "data": {
      "text/plain": [
       "array([1, 1, 1, 1, 1, 1, 1, 1])"
      ]
     },
     "execution_count": 5,
     "metadata": {},
     "output_type": "execute_result"
    }
   ],
   "source": [
    "np2 = np.ones(8, int)\n",
    "np2"
   ]
  },
  {
   "cell_type": "code",
   "execution_count": 7,
   "id": "ba851a76-9c78-4869-a782-446910d15c90",
   "metadata": {},
   "outputs": [
    {
     "data": {
      "text/plain": [
       "array([[78, 78, 78],\n",
       "       [78, 78, 78]])"
      ]
     },
     "execution_count": 7,
     "metadata": {},
     "output_type": "execute_result"
    }
   ],
   "source": [
    "np3 = np.full((2, 3), 78, int)\n",
    "np3"
   ]
  },
  {
   "cell_type": "code",
   "execution_count": 11,
   "id": "07c31162-b958-4ddb-9e48-4dc2dbea6c44",
   "metadata": {},
   "outputs": [
    {
     "data": {
      "text/plain": [
       "array([54, 54, 54, 54, 54, 54, 54, 54])"
      ]
     },
     "execution_count": 11,
     "metadata": {},
     "output_type": "execute_result"
    }
   ],
   "source": [
    "np4 = np.full_like(np2, 54.8)\n",
    "np4"
   ]
  },
  {
   "cell_type": "code",
   "execution_count": 14,
   "id": "1152b389-e54b-43df-a324-b4736a08c9d7",
   "metadata": {},
   "outputs": [
    {
     "data": {
      "text/plain": [
       "array([23., 27., 31., 35., 39., 43., 47., 51., 55., 59., 63., 67., 71.,\n",
       "       75., 79., 83., 87., 91., 95., 99.])"
      ]
     },
     "execution_count": 14,
     "metadata": {},
     "output_type": "execute_result"
    }
   ],
   "source": [
    "np5 = np.arange(23, 100, 4, float)\n",
    "np5"
   ]
  },
  {
   "cell_type": "code",
   "execution_count": 15,
   "id": "c1233df3-05c9-471e-8d90-9c7e92f2ea4d",
   "metadata": {},
   "outputs": [
    {
     "data": {
      "text/plain": [
       "array([  3,  24,  24,  25,  75, 982])"
      ]
     },
     "execution_count": 15,
     "metadata": {},
     "output_type": "execute_result"
    }
   ],
   "source": [
    "py_list = [3, 24, 24, 25, 75, 982]\n",
    "np6 = np.array(py_list)\n",
    "np6"
   ]
  },
  {
   "cell_type": "code",
   "execution_count": 16,
   "id": "628777c1-9680-4626-9dbf-25511215586c",
   "metadata": {},
   "outputs": [
    {
     "data": {
      "text/plain": [
       "array([ 2, 35, 65,  3])"
      ]
     },
     "execution_count": 16,
     "metadata": {},
     "output_type": "execute_result"
    }
   ],
   "source": [
    "np7 = np.array([2, 35, 65, 3])\n",
    "np7"
   ]
  },
  {
   "cell_type": "code",
   "execution_count": 28,
   "id": "42dec390-c91c-4415-9a4c-9e10d39ddcfa",
   "metadata": {},
   "outputs": [
    {
     "data": {
      "text/plain": [
       "982"
      ]
     },
     "execution_count": 28,
     "metadata": {},
     "output_type": "execute_result"
    }
   ],
   "source": [
    "np6[-1]"
   ]
  },
  {
   "cell_type": "code",
   "execution_count": 30,
   "id": "1a9e3b5a-2029-46f0-9ae7-f037c224876c",
   "metadata": {},
   "outputs": [
    {
     "data": {
      "text/plain": [
       "array([24, 25])"
      ]
     },
     "execution_count": 30,
     "metadata": {},
     "output_type": "execute_result"
    }
   ],
   "source": [
    "np6[2:4]"
   ]
  },
  {
   "cell_type": "code",
   "execution_count": 46,
   "id": "2fea44c3-3e54-4a00-a8ca-5fdd3d2b51fa",
   "metadata": {},
   "outputs": [
    {
     "data": {
      "text/plain": [
       "array([[         0,          0,          0,          0,          0,\n",
       "                 0,          0,          0,          0,          0],\n",
       "       [         0,          0,          0,          0,          0,\n",
       "                 0,          0,          0,          0,          0],\n",
       "       [         0,          0,          0,          0,          0,\n",
       "                 0,          0,          0, 1528838690,      32093]])"
      ]
     },
     "execution_count": 46,
     "metadata": {},
     "output_type": "execute_result"
    }
   ],
   "source": [
    "np8 = np.empty((3,10), int)\n",
    "np8"
   ]
  },
  {
   "cell_type": "code",
   "execution_count": 49,
   "id": "f3db8458-1d7e-4901-b52a-c9cd2f51a17e",
   "metadata": {},
   "outputs": [
    {
     "data": {
      "text/plain": [
       "array([24, 75])"
      ]
     },
     "execution_count": 49,
     "metadata": {},
     "output_type": "execute_result"
    }
   ],
   "source": [
    "np6[2:8:2]"
   ]
  },
  {
   "cell_type": "code",
   "execution_count": 50,
   "id": "f4b40c38-6b86-4572-9809-6784f1cd3fc1",
   "metadata": {},
   "outputs": [
    {
     "data": {
      "text/plain": [
       "array([ 3, 24, 75])"
      ]
     },
     "execution_count": 50,
     "metadata": {},
     "output_type": "execute_result"
    }
   ],
   "source": [
    "np6[::2]"
   ]
  },
  {
   "cell_type": "code",
   "execution_count": 52,
   "id": "a01d1b23-477d-404b-a19e-5dafef31a716",
   "metadata": {},
   "outputs": [
    {
     "data": {
      "text/plain": [
       "array([[ 1,  2,  3,  4],\n",
       "       [11, 12, 13, 14]])"
      ]
     },
     "execution_count": 52,
     "metadata": {},
     "output_type": "execute_result"
    }
   ],
   "source": [
    "np9 = np.array([[1, 2, 3, 4], [11, 12, 13, 14]])\n",
    "np9"
   ]
  },
  {
   "cell_type": "code",
   "execution_count": 60,
   "id": "596c10b2-1cde-49bc-9e6a-8fd17ec9fcc5",
   "metadata": {},
   "outputs": [
    {
     "data": {
      "text/plain": [
       "array([3, 4])"
      ]
     },
     "execution_count": 60,
     "metadata": {},
     "output_type": "execute_result"
    }
   ],
   "source": [
    "np9[0, 2:4]"
   ]
  },
  {
   "cell_type": "code",
   "execution_count": 63,
   "id": "f30e75e9-7037-445d-9263-e971b8289e9e",
   "metadata": {},
   "outputs": [
    {
     "data": {
      "text/plain": [
       "array([[1.        , 1.41421356, 1.73205081, 2.        ],\n",
       "       [3.31662479, 3.46410162, 3.60555128, 3.74165739]])"
      ]
     },
     "execution_count": 63,
     "metadata": {},
     "output_type": "execute_result"
    }
   ],
   "source": [
    "np.sqrt(np9)"
   ]
  },
  {
   "cell_type": "code",
   "execution_count": 70,
   "id": "72423368-f35e-46dc-a7d9-20a5a9eb6cfd",
   "metadata": {},
   "outputs": [
    {
     "data": {
      "text/plain": [
       "(2, 4)"
      ]
     },
     "execution_count": 70,
     "metadata": {},
     "output_type": "execute_result"
    }
   ],
   "source": [
    "np9.shape"
   ]
  },
  {
   "cell_type": "code",
   "execution_count": 79,
   "id": "03713c03-129f-4290-9983-44c5c8a1f4a1",
   "metadata": {},
   "outputs": [],
   "source": [
    "np10 = np.array([[1, 2, 3, 4], [5, 6, 7, 8], [9, 10, 11, 12], [13, 14, 15, 16]])"
   ]
  },
  {
   "cell_type": "code",
   "execution_count": 89,
   "id": "82ffbee3-a6b3-4254-9cf5-71c586a3c3f4",
   "metadata": {},
   "outputs": [
    {
     "data": {
      "text/plain": [
       "array([[[ 1,  2],\n",
       "        [ 3,  4],\n",
       "        [ 5,  6],\n",
       "        [ 7,  8]],\n",
       "\n",
       "       [[ 9, 10],\n",
       "        [11, 12],\n",
       "        [13, 14],\n",
       "        [15, 16]]])"
      ]
     },
     "execution_count": 89,
     "metadata": {},
     "output_type": "execute_result"
    }
   ],
   "source": [
    "np10.reshape(2, 4, 2)"
   ]
  },
  {
   "cell_type": "code",
   "execution_count": 90,
   "id": "6c7462ba-7a27-4407-8d9f-71be5f187f9a",
   "metadata": {},
   "outputs": [],
   "source": [
    "np11 = np.array([1, 2, 3, 4, 5,6, 7, 8])"
   ]
  },
  {
   "cell_type": "code",
   "execution_count": 93,
   "id": "6f422ef9-fc61-410f-81cf-9ade5f39d8d7",
   "metadata": {},
   "outputs": [
    {
     "data": {
      "text/plain": [
       "(4, 4)"
      ]
     },
     "execution_count": 93,
     "metadata": {},
     "output_type": "execute_result"
    }
   ],
   "source": [
    "np10.shape"
   ]
  },
  {
   "cell_type": "code",
   "execution_count": null,
   "id": "3479b14b-8114-490f-a81a-95ec6b1908d5",
   "metadata": {},
   "outputs": [],
   "source": []
  }
 ],
 "metadata": {
  "kernelspec": {
   "display_name": "Python 3 (ipykernel)",
   "language": "python",
   "name": "python3"
  },
  "language_info": {
   "codemirror_mode": {
    "name": "ipython",
    "version": 3
   },
   "file_extension": ".py",
   "mimetype": "text/x-python",
   "name": "python",
   "nbconvert_exporter": "python",
   "pygments_lexer": "ipython3",
   "version": "3.12.3"
  }
 },
 "nbformat": 4,
 "nbformat_minor": 5
}
